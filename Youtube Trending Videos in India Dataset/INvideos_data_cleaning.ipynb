{
 "cells": [
  {
   "cell_type": "code",
   "execution_count": 33,
   "id": "77d369e4-e9cd-44f4-b40f-2e766ca41cc8",
   "metadata": {},
   "outputs": [
    {
     "name": "stdout",
     "output_type": "stream",
     "text": [
      "video_id                  False\n",
      "trending_date             False\n",
      "title                     False\n",
      "channel_title             False\n",
      "category_id               False\n",
      "publish_time              False\n",
      "tags                      False\n",
      "views                     False\n",
      "likes                     False\n",
      "dislikes                  False\n",
      "comment_count             False\n",
      "thumbnail_link            False\n",
      "comments_disabled         False\n",
      "ratings_disabled          False\n",
      "video_error_or_removed    False\n",
      "description               False\n",
      "dtype: bool\n"
     ]
    },
    {
     "data": {
      "text/plain": [
       "'D:/INvideos_cleaned.csv'"
      ]
     },
     "execution_count": 33,
     "metadata": {},
     "output_type": "execute_result"
    }
   ],
   "source": [
    "import pandas as pd\n",
    "#load the data\n",
    "df = pd.read_csv(\"D:/INvideos.csv\")\n",
    "#print(df)\n",
    "\n",
    "#To find all rows with NaN under the entire DataFrame, you may apply this syntax:\n",
    "# nan_values = df[df.isna().any(axis=1)]\n",
    "# print(nan_values)\n",
    "\n",
    "# to find all the cloumns containing null values\n",
    "# nan_values_before = df.isnull().any()\n",
    "# print(nan_values_before)\n",
    "\n",
    "\n",
    "# nan_values_all_first_col = (nan_values.iloc[:, 0]).to_string() #returns all rows with null values\n",
    "# nan_values_first_col = nan_values.iloc[:, 0] #returns rows with null values\n",
    "\n",
    "# print(nan_values_first_col)\n",
    "# print(len(nan_values_first_col.index)) #to know the no. of rows that contains null values which is 561 null values\n",
    "\n",
    "\n",
    "#handling missing value\n",
    "\n",
    "df[\"description\"].fillna(\"Unknown\", inplace=True) #fill the nulls with Unknown\n",
    "\n",
    "nan_values_after = df.isnull().any() #check after filling\n",
    "print(nan_values_after) #this returns false\n",
    "\n",
    "\n",
    "df.drop_duplicates(inplace=True)\n",
    "\n",
    "\n",
    "# data formatting\n",
    "df['trending_date'] = pd.to_datetime(df['trending_date'], format='%y.%d.%m')\n",
    "df['publish_time'] = pd.to_datetime(df['publish_time'])\n",
    "\n",
    "#data validation\n",
    "#check if the category_id is within this range as given in json category_id file\n",
    "category_id_range =[1,2,10,15,17,18,19,20,21,22,23,24,25,26,27,28,29,30,31,32,33,34,35,36,37,38,39,40,41,42,43,44]\n",
    "df = df[(df['category_id'].isin(category_id_range))]\n",
    "\n",
    "\n",
    "cleaned_file_path = 'D:/INvideos_cleaned.csv'\n",
    "df.to_csv(cleaned_file_path, index=False)\n",
    "\n",
    "cleaned_file_path"
   ]
  }
 ],
 "metadata": {
  "kernelspec": {
   "display_name": "Python 3 (ipykernel)",
   "language": "python",
   "name": "python3"
  },
  "language_info": {
   "codemirror_mode": {
    "name": "ipython",
    "version": 3
   },
   "file_extension": ".py",
   "mimetype": "text/x-python",
   "name": "python",
   "nbconvert_exporter": "python",
   "pygments_lexer": "ipython3",
   "version": "3.11.4"
  }
 },
 "nbformat": 4,
 "nbformat_minor": 5
}
